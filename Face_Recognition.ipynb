{
 "cells": [
  {
   "cell_type": "code",
   "execution_count": 1,
   "id": "883b60d5",
   "metadata": {
    "ExecuteTime": {
     "end_time": "2022-06-26T04:34:30.702477Z",
     "start_time": "2022-06-26T04:34:30.526471Z"
    }
   },
   "outputs": [],
   "source": [
    "import numpy as np\n",
    "import  tkinter as tk\n",
    "from tkinter import filedialog\n",
    "import cv2\n",
    "import cv2\n",
    "import os"
   ]
  },
  {
   "cell_type": "code",
   "execution_count": 7,
   "id": "ee28053f",
   "metadata": {
    "ExecuteTime": {
     "end_time": "2022-06-26T04:35:09.537580Z",
     "start_time": "2022-06-26T04:35:09.525543Z"
    }
   },
   "outputs": [],
   "source": [
    "def load_images_from_folder(folder):\n",
    "    images = []\n",
    "    names = []\n",
    "    for filename in os.listdir(folder):\n",
    "        img = cv2.imread(os.path.join(folder,filename))\n",
    "        if img is not None:\n",
    "            images.append(img)\n",
    "            names.append(filename)\n",
    "    return images, names"
   ]
  },
  {
   "cell_type": "code",
   "execution_count": 8,
   "id": "a4556940",
   "metadata": {
    "ExecuteTime": {
     "end_time": "2022-06-26T04:35:09.839281Z",
     "start_time": "2022-06-26T04:35:09.826168Z"
    }
   },
   "outputs": [],
   "source": [
    "# define matrix\n",
    "def getMainMatrix(image_1, image_2):\n",
    "    \n",
    "    # define the main matrix with the required size\n",
    "    mainMatrix = np.zeros((len(image_1) + 1, len(image_2) + 1))\n",
    "    \n",
    "    # declare the matchscore, gapscore, and mismatchscore\n",
    "    matchScore = 1\n",
    "    gapScore = -2\n",
    "    mismatchScore = -1\n",
    "    \n",
    "    # fix the first element of the matrix as 0\n",
    "    mainMatrix[0][0] = 0\n",
    "    \n",
    "    for i in range(len(image_1) + 1):\n",
    "        for j in range(len(image_2) + 1):\n",
    "            \n",
    "            # fill the first row of the matrix by adding the gapscores\n",
    "            if i == 0:\n",
    "                mainMatrix[i][j] = gapScore*j\n",
    "                \n",
    "            # fill the second row of the matrix by adding the gapscores\n",
    "            elif j == 0:\n",
    "                mainMatrix[i][j] = gapScore*i\n",
    "                \n",
    "            # fill the remaining elements of the matrix with either the matchscore or the mismatch score\n",
    "            else:\n",
    "                elements = []\n",
    "                elements.append(mainMatrix[i - 1][j] + gapScore)\n",
    "                elements.append(mainMatrix[i][j - 1] + gapScore)\n",
    "                \n",
    "                # add matchscore if the elements are same\n",
    "                if(image_1[i - 1] == image_2[j - 1]):\n",
    "                    elements.append(mainMatrix[i - 1][j - 1] + matchScore)\n",
    "                    \n",
    "                # add mismatchscore if the elements are different\n",
    "                else:\n",
    "                    elements.append(mainMatrix[i - 1][j - 1] + mismatchScore)\n",
    "                mainMatrix[i][j] = max(elements)\n",
    "    \n",
    "    return mainMatrix"
   ]
  },
  {
   "cell_type": "code",
   "execution_count": 9,
   "id": "529b5927",
   "metadata": {
    "ExecuteTime": {
     "end_time": "2022-06-26T04:35:10.029931Z",
     "start_time": "2022-06-26T04:35:10.009917Z"
    }
   },
   "outputs": [],
   "source": [
    "# needlemanwunsch algorithm\n",
    "def needlemanWunsch(image_1, image_2):\n",
    "    \n",
    "    string1 = \"\"\n",
    "    string2 = \"\"\n",
    "\n",
    "    i = len(image_1)\n",
    "    j = len(image_2)\n",
    "    same = 0\n",
    "    \n",
    "    # obtain the main matrix for sequence 1 and sequence 2\n",
    "    mainMatrix = getMainMatrix(image_1, image_2)\n",
    "#     print(mainMatrix)\n",
    "    \n",
    "    # declare empty arrays for storing insertions, deletions, and substitutions\n",
    "    insertions = []\n",
    "    deletions = []\n",
    "    substitutions = []\n",
    "\n",
    "    while (i > 0 and j > 0):\n",
    "        \n",
    "        # when the elements of both the sequences are equal the elements are added to the strings \n",
    "        if(image_1[i - 1] == image_2[j - 1]):\n",
    "            string1 = str(image_1[i - 1]) + string1\n",
    "            string2 = str(image_2[j - 1]) + string2\n",
    "            i = i - 1\n",
    "            j = j - 1\n",
    "            same = same + 1\n",
    "        \n",
    "        else:\n",
    "            # surrounding elements are added to the array\n",
    "            elements = []\n",
    "            elements.append(mainMatrix[i - 1][j])\n",
    "            elements.append(mainMatrix[i][j - 1])       \n",
    "            elements.append(mainMatrix[i - 1][j - 1])\n",
    "            \n",
    "            # maximum element is identified\n",
    "            final = max(elements)\n",
    "            \n",
    "            # index of the maximum element is identified\n",
    "            index = elements.index(final)\n",
    "            \n",
    "            # check the index value and append the i and j values to the corresponding arrays\n",
    "            if (index == 0):\n",
    "                insertions.append(i - 1)\n",
    "                i = i - 1\n",
    "                string1 = \"-\" + string1\n",
    "            elif (index == 1):\n",
    "                deletions.append(j - 1)\n",
    "                j = j - 1\n",
    "                string2 = \"-\" + string2\n",
    "            else:\n",
    "                substitutions.append(j - 1)\n",
    "                i = i - 1\n",
    "                j = j - 1\n",
    "                string1 = \"*\" + string1\n",
    "                \n",
    "    return same"
   ]
  },
  {
   "cell_type": "code",
   "execution_count": 10,
   "id": "8ea55647",
   "metadata": {
    "ExecuteTime": {
     "end_time": "2022-06-26T04:35:10.203917Z",
     "start_time": "2022-06-26T04:35:10.189918Z"
    }
   },
   "outputs": [],
   "source": [
    "def getMatch(image):\n",
    "    x, y, z = image.shape\n",
    "    flattened = image.flatten()\n",
    "    folder = \"D:\\Transfer Files\\End Semester\\DAA\\Face Dataset\"\n",
    "    images, names = load_images_from_folder(folder)\n",
    "    scores = []\n",
    "    for i in images:\n",
    "        resized_img = cv2.resize(i, dim, interpolation = cv2.INTER_AREA)\n",
    "        flat_img = resized_img.flatten()\n",
    "        scores.append(needlemanWunsch(flat_img, flattened))\n",
    "    maxScore = max(scores)\n",
    "    index = scores.index(maxScore)\n",
    "    image = images[index]\n",
    "    name = names[index]\n",
    "    return name, index"
   ]
  },
  {
   "cell_type": "code",
   "execution_count": 12,
   "id": "6e1bab24",
   "metadata": {
    "ExecuteTime": {
     "end_time": "2022-06-26T05:20:53.888378Z",
     "start_time": "2022-06-26T05:19:19.018750Z"
    }
   },
   "outputs": [
    {
     "name": "stdout",
     "output_type": "stream",
     "text": [
      "('sbains.6.jpg', 10)\n"
     ]
    }
   ],
   "source": [
    "root = tk.Tk()\n",
    "root.withdraw()\n",
    "file_path = filedialog.askopenfilename()\n",
    "scale_percent = 12.5\n",
    "img = cv2.imread(file_path)\n",
    "width = int(img.shape[1] * scale_percent / 100)\n",
    "height = int(img.shape[0] * scale_percent / 100)\n",
    "dim = (width, height)\n",
    "resized_img = cv2.resize(img, dim, interpolation = cv2.INTER_AREA)\n",
    "print(getMatch(resized_img))"
   ]
  },
  {
   "cell_type": "code",
   "execution_count": null,
   "id": "a89b04d9",
   "metadata": {},
   "outputs": [],
   "source": []
  },
  {
   "cell_type": "code",
   "execution_count": null,
   "id": "1644502d",
   "metadata": {},
   "outputs": [],
   "source": []
  }
 ],
 "metadata": {
  "kernelspec": {
   "display_name": "Python 3 (ipykernel)",
   "language": "python",
   "name": "python3"
  },
  "language_info": {
   "codemirror_mode": {
    "name": "ipython",
    "version": 3
   },
   "file_extension": ".py",
   "mimetype": "text/x-python",
   "name": "python",
   "nbconvert_exporter": "python",
   "pygments_lexer": "ipython3",
   "version": "3.9.7"
  },
  "toc": {
   "base_numbering": 1,
   "nav_menu": {},
   "number_sections": true,
   "sideBar": true,
   "skip_h1_title": false,
   "title_cell": "Table of Contents",
   "title_sidebar": "Contents",
   "toc_cell": false,
   "toc_position": {},
   "toc_section_display": true,
   "toc_window_display": false
  }
 },
 "nbformat": 4,
 "nbformat_minor": 5
}
