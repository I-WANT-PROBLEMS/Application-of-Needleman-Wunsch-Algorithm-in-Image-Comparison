{
 "cells": [
  {
   "cell_type": "code",
   "execution_count": 1,
   "id": "583802a2",
   "metadata": {
    "ExecuteTime": {
     "end_time": "2022-06-26T03:37:26.034474Z",
     "start_time": "2022-06-26T03:37:25.552470Z"
    }
   },
   "outputs": [],
   "source": [
    "import cv2\n",
    "import numpy as np\n",
    "import matplotlib.pyplot as plt"
   ]
  },
  {
   "cell_type": "code",
   "execution_count": 2,
   "id": "e8a10419",
   "metadata": {
    "ExecuteTime": {
     "end_time": "2022-06-26T03:37:26.114470Z",
     "start_time": "2022-06-26T03:37:26.096472Z"
    }
   },
   "outputs": [],
   "source": [
    "global RED\n",
    "global GREEN\n",
    "global YELLOW\n",
    "global WHITE\n",
    "global BLACK\n",
    "\n",
    "RED = 2\n",
    "GREEN = 1\n",
    "YELLOW = 0\n",
    "WHITE = 3\n",
    "BLACK = 4"
   ]
  },
  {
   "cell_type": "code",
   "execution_count": 3,
   "id": "a4556940",
   "metadata": {
    "ExecuteTime": {
     "end_time": "2022-06-26T03:37:26.690473Z",
     "start_time": "2022-06-26T03:37:26.654473Z"
    }
   },
   "outputs": [],
   "source": [
    "# define matrix\n",
    "def getMainMatrix(image_1, image_2):\n",
    "    \n",
    "    # define the main matrix with the required size\n",
    "    mainMatrix = np.zeros((len(image_1) + 1, len(image_2) + 1))\n",
    "    \n",
    "    # declare the matchscore, gapscore, and mismatchscore\n",
    "    matchScore = 1\n",
    "    gapScore = -2\n",
    "    mismatchScore = -1\n",
    "    \n",
    "    # fix the first element of the matrix as 0\n",
    "    mainMatrix[0][0] = 0\n",
    "    \n",
    "    for i in range(len(image_1) + 1):\n",
    "        for j in range(len(image_2) + 1):\n",
    "            \n",
    "            # fill the first row of the matrix by adding the gapscores\n",
    "            if i == 0:\n",
    "                mainMatrix[i][j] = gapScore*j\n",
    "                \n",
    "            # fill the second row of the matrix by adding the gapscores\n",
    "            elif j == 0:\n",
    "                mainMatrix[i][j] = gapScore*i\n",
    "                \n",
    "            # fill the remaining elements of the matrix with either the matchscore or the mismatch score\n",
    "            else:\n",
    "                elements = []\n",
    "                elements.append(mainMatrix[i - 1][j] + gapScore)\n",
    "                elements.append(mainMatrix[i][j - 1] + gapScore)\n",
    "                \n",
    "                # add matchscore if the elements are same\n",
    "                if(image_1[i - 1] == image_2[j - 1]):\n",
    "                    elements.append(mainMatrix[i - 1][j - 1] + matchScore)\n",
    "                    \n",
    "                # add mismatchscore if the elements are different\n",
    "                else:\n",
    "                    elements.append(mainMatrix[i - 1][j - 1] + mismatchScore)\n",
    "                mainMatrix[i][j] = max(elements)\n",
    "    \n",
    "    return mainMatrix"
   ]
  },
  {
   "cell_type": "code",
   "execution_count": 4,
   "id": "529b5927",
   "metadata": {
    "ExecuteTime": {
     "end_time": "2022-06-26T03:37:27.134695Z",
     "start_time": "2022-06-26T03:37:27.121472Z"
    }
   },
   "outputs": [],
   "source": [
    "# needlemanwunsch algorithm\n",
    "def needlemanWunsch(image_1, image_2):\n",
    "    \n",
    "    string1 = \"\"\n",
    "    string2 = \"\"\n",
    "\n",
    "    i = len(image_1)\n",
    "    j = len(image_2)\n",
    "    same = 0\n",
    "    \n",
    "#     print(\"Length of query vector:\", i)\n",
    "#     print(\"Length of reference vector:\", j)\n",
    "    \n",
    "    # obtain the main matrix for sequence 1 and sequence 2\n",
    "    mainMatrix = getMainMatrix(image_1, image_2)\n",
    "#     print(mainMatrix)\n",
    "    \n",
    "    # declare empty arrays for storing insertions, deletions, and substitutions\n",
    "    insertions = []\n",
    "    deletions = []\n",
    "    substitutions = []\n",
    "    array = []\n",
    "\n",
    "    while (i > 0 and j > 0):\n",
    "        \n",
    "        # when the elements of both the sequences are equal the elements are added to the strings \n",
    "        if(image_1[i - 1] == image_2[j - 1]):\n",
    "            string1 = str(image_1[i - 1]) + string1\n",
    "            string2 = str(image_2[j - 1]) + string2\n",
    "            array.append([i - 1, j - 1])\n",
    "            i = i - 1\n",
    "            j = j - 1\n",
    "            same = same + 1\n",
    "\n",
    "        else:\n",
    "            # surrounding elements are added to the array\n",
    "            elements = []\n",
    "            elements.append(mainMatrix[i - 1][j])\n",
    "            elements.append(mainMatrix[i][j - 1])       \n",
    "            elements.append(mainMatrix[i - 1][j - 1])\n",
    "            \n",
    "            # maximum element is identified\n",
    "            final = max(elements)\n",
    "            \n",
    "            # index of the maximum element is identified\n",
    "            index = elements.index(final)\n",
    "            \n",
    "            # check the index value and append the i and j values to the corresponding arrays\n",
    "            if (index == 0):\n",
    "                insertions.append(i - 1)\n",
    "                i = i - 1\n",
    "                string1 = \"-\" + string1\n",
    "            elif (index == 1):\n",
    "                deletions.append(j - 1)\n",
    "                j = j - 1\n",
    "                string2 = \"-\" + string2\n",
    "            else:\n",
    "                substitutions.append(j - 1)\n",
    "                i = i - 1\n",
    "                j = j - 1\n",
    "                string1 = \"*\" + string1\n",
    "                \n",
    "    return same, array"
   ]
  },
  {
   "cell_type": "code",
   "execution_count": 5,
   "id": "37329b08",
   "metadata": {
    "ExecuteTime": {
     "end_time": "2022-06-26T03:37:37.539709Z",
     "start_time": "2022-06-26T03:37:37.533710Z"
    }
   },
   "outputs": [],
   "source": [
    "def getColorCoding(image):\n",
    "    image_array = []\n",
    "    for i in image:\n",
    "        for j in i:\n",
    "            red = j[2]\n",
    "            green = j[1]\n",
    "            blue = j[0]\n",
    "#             print(j)\n",
    "            yellowArray = [0, 200, 200]\n",
    "            greenArray = [0, 255, 0]\n",
    "            redArray = [0, 0, 255]\n",
    "            \n",
    "            if all(temp >= 210 for temp in j):\n",
    "                image_array.append(4)\n",
    "            elif all(temp <= 10 for temp in j):\n",
    "                image_array.append(3)\n",
    "            elif np.allclose(yellowArray, j, 2, 0.001):\n",
    "                image_array.append(0)\n",
    "            elif green == 255 and red == 0 and blue == 0:\n",
    "                image_array.append(1)\n",
    "            elif np.allclose(greenArray, j, 2, 0.001):\n",
    "                image_array.append(1)\n",
    "            elif np.allclose(redArray, j, 2, 0.001):\n",
    "                image_array.append(2)\n",
    "            else:\n",
    "                image_array.append(9)\n",
    "            \n",
    "    return image_array"
   ]
  },
  {
   "cell_type": "code",
   "execution_count": 6,
   "id": "0e4c5923",
   "metadata": {
    "ExecuteTime": {
     "end_time": "2022-06-26T03:38:05.757149Z",
     "start_time": "2022-06-26T03:38:05.751614Z"
    }
   },
   "outputs": [],
   "source": [
    "def getOutline(resized_img, elements):\n",
    "    x, y, z = resized_img.shape\n",
    "    start = elements[0][0]\n",
    "    end = elements[-1][0]\n",
    "    start_point = (start // y, start % y)\n",
    "    end_point = (end // y, end % y)\n",
    "\n",
    "    color = (255, 255, 255)\n",
    "    image = cv2.rectangle(resized_img, start_point, end_point, color, 2)\n",
    "    return image"
   ]
  },
  {
   "cell_type": "code",
   "execution_count": 7,
   "id": "344ea519",
   "metadata": {
    "ExecuteTime": {
     "end_time": "2022-06-26T03:38:06.827010Z",
     "start_time": "2022-06-26T03:38:06.816024Z"
    }
   },
   "outputs": [],
   "source": [
    "def checkColor(image):\n",
    "    scale_percent = 12.5\n",
    "    width = int(image.shape[1] * scale_percent / 100)\n",
    "    height = int(image.shape[0] * scale_percent / 100)\n",
    "    dim = (width, height)\n",
    "    \n",
    "    green = cv2.imread(r\"C:\\Users\\Jaswanth Kunisetty\\Downloads\\DAA\\Project\\Green_Color.png\")\n",
    "    resized_green = cv2.resize(green, dim, interpolation = cv2.INTER_AREA)\n",
    "    greenCode = getColorCoding(resized_green)\n",
    "    \n",
    "    print(\"Green Code obtained\")\n",
    "    \n",
    "    red = cv2.imread(r\"C:\\Users\\Jaswanth Kunisetty\\Downloads\\DAA\\Project\\Red_Color.png\")\n",
    "    resized_red = cv2.resize(red, dim, interpolation = cv2.INTER_AREA)\n",
    "    redCode = getColorCoding(resized_red)\n",
    "    \n",
    "    print(\"Red Code obtained\")\n",
    "    \n",
    "    yellow = cv2.imread(r\"C:\\Users\\Jaswanth Kunisetty\\Downloads\\DAA\\Project\\Yellow_Color.png\")\n",
    "    resized_yellow = cv2.resize(yellow, dim, interpolation = cv2.INTER_AREA)\n",
    "    yellowCode = getColorCoding(resized_yellow)\n",
    "    \n",
    "    print(\"Yellow Code obtained\")\n",
    "    \n",
    "    resized_img = cv2.resize(image, dim, interpolation = cv2.INTER_AREA)\n",
    "    imgCode = getColorCoding(resized_img)\n",
    "    \n",
    "    print(\"Image Code obtained\")\n",
    "    \n",
    "    greenScore, greenArray = needlemanWunsch(imgCode, greenCode)\n",
    "    redScore, redArray = needlemanWunsch(imgCode, redCode)\n",
    "    yellowScore, yellowArray = needlemanWunsch(imgCode, yellowCode)\n",
    "    \n",
    "    array = []\n",
    "    array.append(greenScore)\n",
    "    array.append(redScore)\n",
    "    array.append(yellowScore)\n",
    "    \n",
    "    print(array)\n",
    "    \n",
    "    maxScore = max(array)\n",
    "    maxIndex = array.index(maxScore)\n",
    "    \n",
    "    if maxIndex == 0:\n",
    "        return \"Green\", greenArray, resized_img\n",
    "    elif maxIndex == 1:\n",
    "        return \"Red\", redArray, resized_img\n",
    "    else:\n",
    "        return \"Yellow\", yellowArray, resized_img"
   ]
  },
  {
   "cell_type": "code",
   "execution_count": 8,
   "id": "ada2a64b",
   "metadata": {
    "ExecuteTime": {
     "end_time": "2022-06-26T03:38:16.405415Z",
     "start_time": "2022-06-26T03:38:16.391397Z"
    }
   },
   "outputs": [],
   "source": [
    "def getColor(image):\n",
    "    image = cv2.imread(image)\n",
    "    name, elements, resized_img = checkColor(image)\n",
    "    print(\"Color:\", name)\n",
    "    image_new = getOutline(resized_img, elements)\n",
    "    return name, image_new"
   ]
  },
  {
   "cell_type": "code",
   "execution_count": 9,
   "id": "ae81ed8c",
   "metadata": {
    "ExecuteTime": {
     "end_time": "2022-06-26T03:41:11.841410Z",
     "start_time": "2022-06-26T03:38:20.521544Z"
    },
    "scrolled": false
   },
   "outputs": [
    {
     "name": "stdout",
     "output_type": "stream",
     "text": [
      "Green Code obtained\n",
      "Red Code obtained\n",
      "Yellow Code obtained\n",
      "Image Code obtained\n",
      "[640, 0, 144]\n",
      "Color: Green\n"
     ]
    }
   ],
   "source": [
    "import  tkinter as tk\n",
    "from tkinter import filedialog\n",
    "\n",
    "root = tk.Tk()\n",
    "root.withdraw()\n",
    "file_path = filedialog.askopenfilename()\n",
    "color, image = getColor(file_path)"
   ]
  },
  {
   "cell_type": "code",
   "execution_count": 10,
   "id": "5f43d9f0",
   "metadata": {
    "ExecuteTime": {
     "end_time": "2022-06-26T03:32:20.496149Z",
     "start_time": "2022-06-26T03:32:20.375046Z"
    }
   },
   "outputs": [],
   "source": [
    "cv2.imshow('image', image)\n",
    "cv2.waitKey(0) \n",
    "cv2.destroyAllWindows()"
   ]
  },
  {
   "cell_type": "code",
   "execution_count": null,
   "id": "9b569c73",
   "metadata": {},
   "outputs": [],
   "source": []
  }
 ],
 "metadata": {
  "kernelspec": {
   "display_name": "Python 3 (ipykernel)",
   "language": "python",
   "name": "python3"
  },
  "language_info": {
   "codemirror_mode": {
    "name": "ipython",
    "version": 3
   },
   "file_extension": ".py",
   "mimetype": "text/x-python",
   "name": "python",
   "nbconvert_exporter": "python",
   "pygments_lexer": "ipython3",
   "version": "3.9.7"
  },
  "toc": {
   "base_numbering": 1,
   "nav_menu": {},
   "number_sections": true,
   "sideBar": true,
   "skip_h1_title": false,
   "title_cell": "Table of Contents",
   "title_sidebar": "Contents",
   "toc_cell": false,
   "toc_position": {},
   "toc_section_display": true,
   "toc_window_display": false
  }
 },
 "nbformat": 4,
 "nbformat_minor": 5
}
